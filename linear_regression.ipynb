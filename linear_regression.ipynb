{
 "cells": [
  {
   "cell_type": "code",
   "execution_count": 166,
   "id": "c28f63ca-9ff9-430c-ada8-e5bc667a0d37",
   "metadata": {},
   "outputs": [],
   "source": [
    "import pandas as pd\n",
    "import numpy as np\n",
    "import matplotlib.pyplot as plt\n",
    "import torch\n",
    "import seaborn as sns\n",
    "from sklearn.datasets import make_regression\n",
    "from sklearn.metrics import mean_squared_error\n",
    "from sklearn.linear_model import LinearRegression\n",
    "from sklearn.model_selection import train_test_split"
   ]
  },
  {
   "cell_type": "code",
   "execution_count": 165,
   "id": "cceb8731-c4c0-4581-9562-f1811945a8bd",
   "metadata": {},
   "outputs": [
    {
     "data": {
      "text/html": [
       "<div>\n",
       "<style scoped>\n",
       "    .dataframe tbody tr th:only-of-type {\n",
       "        vertical-align: middle;\n",
       "    }\n",
       "\n",
       "    .dataframe tbody tr th {\n",
       "        vertical-align: top;\n",
       "    }\n",
       "\n",
       "    .dataframe thead th {\n",
       "        text-align: right;\n",
       "    }\n",
       "</style>\n",
       "<table border=\"1\" class=\"dataframe\">\n",
       "  <thead>\n",
       "    <tr style=\"text-align: right;\">\n",
       "      <th></th>\n",
       "      <th>feature_1</th>\n",
       "      <th>feature_2</th>\n",
       "      <th>feature_3</th>\n",
       "      <th>feature_4</th>\n",
       "      <th>feature_5</th>\n",
       "      <th>feature_6</th>\n",
       "      <th>target</th>\n",
       "    </tr>\n",
       "  </thead>\n",
       "  <tbody>\n",
       "    <tr>\n",
       "      <th>0</th>\n",
       "      <td>0.376678</td>\n",
       "      <td>0.427697</td>\n",
       "      <td>-0.806369</td>\n",
       "      <td>0.597987</td>\n",
       "      <td>-1.336421</td>\n",
       "      <td>0.849943</td>\n",
       "      <td>326.0</td>\n",
       "    </tr>\n",
       "    <tr>\n",
       "      <th>1</th>\n",
       "      <td>2.644343</td>\n",
       "      <td>-0.465310</td>\n",
       "      <td>0.253740</td>\n",
       "      <td>-0.105948</td>\n",
       "      <td>-1.502970</td>\n",
       "      <td>0.467693</td>\n",
       "      <td>326.0</td>\n",
       "    </tr>\n",
       "    <tr>\n",
       "      <th>2</th>\n",
       "      <td>-0.160513</td>\n",
       "      <td>-0.011081</td>\n",
       "      <td>0.467378</td>\n",
       "      <td>1.002952</td>\n",
       "      <td>0.790533</td>\n",
       "      <td>-0.878339</td>\n",
       "      <td>327.0</td>\n",
       "    </tr>\n",
       "    <tr>\n",
       "      <th>3</th>\n",
       "      <td>1.548639</td>\n",
       "      <td>-1.336569</td>\n",
       "      <td>1.221295</td>\n",
       "      <td>1.336657</td>\n",
       "      <td>0.320217</td>\n",
       "      <td>0.133958</td>\n",
       "      <td>334.0</td>\n",
       "    </tr>\n",
       "    <tr>\n",
       "      <th>4</th>\n",
       "      <td>-1.428169</td>\n",
       "      <td>-1.370431</td>\n",
       "      <td>-0.646894</td>\n",
       "      <td>-0.301938</td>\n",
       "      <td>0.789952</td>\n",
       "      <td>-0.103304</td>\n",
       "      <td>335.0</td>\n",
       "    </tr>\n",
       "  </tbody>\n",
       "</table>\n",
       "</div>"
      ],
      "text/plain": [
       "   feature_1  feature_2  feature_3  feature_4  feature_5  feature_6  target\n",
       "0   0.376678   0.427697  -0.806369   0.597987  -1.336421   0.849943   326.0\n",
       "1   2.644343  -0.465310   0.253740  -0.105948  -1.502970   0.467693   326.0\n",
       "2  -0.160513  -0.011081   0.467378   1.002952   0.790533  -0.878339   327.0\n",
       "3   1.548639  -1.336569   1.221295   1.336657   0.320217   0.133958   334.0\n",
       "4  -1.428169  -1.370431  -0.646894  -0.301938   0.789952  -0.103304   335.0"
      ]
     },
     "execution_count": 165,
     "metadata": {},
     "output_type": "execute_result"
    }
   ],
   "source": [
    "X, Y = make_regression(n_samples=10000, n_features=6, noise=0.1, random_state=42)\n",
    "df = pd.DataFrame(X, columns=[f'feature_{i+1}' for i in range(X.shape[1])])\n",
    "df['target'] = y\n",
    "df.head()"
   ]
  },
  {
   "cell_type": "code",
   "execution_count": 268,
   "id": "02f5fb6e-0117-42bb-aebf-383b00e58c18",
   "metadata": {},
   "outputs": [
    {
     "data": {
      "text/plain": [
       "((8500, 6), (8500,), (1500, 6), (1500,))"
      ]
     },
     "execution_count": 268,
     "metadata": {},
     "output_type": "execute_result"
    }
   ],
   "source": [
    "xtrain, xtest, ytrain, ytest = train_test_split(X, Y, test_size = 0.15, random_state = 42)\n",
    "xtrain.shape, ytrain.shape, xtest.shape, ytest.shape"
   ]
  },
  {
   "cell_type": "code",
   "execution_count": 269,
   "id": "3afe7677-cecc-4514-b8f9-e6f1cc79e8d0",
   "metadata": {},
   "outputs": [
    {
     "data": {
      "text/plain": [
       "(torch.Size([6, 1]), torch.Size([1]))"
      ]
     },
     "execution_count": 269,
     "metadata": {},
     "output_type": "execute_result"
    }
   ],
   "source": [
    "# initializing the bias term to be 0\n",
    "b = torch.ones(xtrain.shape[1]).T.view(-1, 1)\n",
    "e = torch.ones(1)\n",
    "b.shape, e.shape"
   ]
  },
  {
   "cell_type": "code",
   "execution_count": 270,
   "id": "b6ae3725-6995-4c57-8f22-f7ef0760ca7c",
   "metadata": {},
   "outputs": [
    {
     "name": "stderr",
     "output_type": "stream",
     "text": [
      "/tmp/ipykernel_911/1772226920.py:3: UserWarning: To copy construct from a tensor, it is recommended to use sourceTensor.clone().detach() or sourceTensor.clone().detach().requires_grad_(True), rather than torch.tensor(sourceTensor).\n",
      "  b = torch.tensor(b, dtype=torch.float32)\n",
      "/tmp/ipykernel_911/1772226920.py:4: UserWarning: To copy construct from a tensor, it is recommended to use sourceTensor.clone().detach() or sourceTensor.clone().detach().requires_grad_(True), rather than torch.tensor(sourceTensor).\n",
      "  e = torch.tensor(e, dtype = torch.float32)\n"
     ]
    },
    {
     "data": {
      "text/plain": [
       "tensor([[ 0.8531,  0.0107, -0.4057,  0.3544,  1.1279,  0.4994],\n",
       "        [-1.3588, -0.9873, -2.2094, -0.8967, -2.1294,  2.4611],\n",
       "        [-0.5045, -0.7787, -1.0753, -0.4908, -0.2880, -0.8139],\n",
       "        [-0.4945, -0.7234, -0.1361, -3.1993,  0.0376,  1.9802],\n",
       "        [ 0.1926, -0.2210, -2.0994,  0.0694,  2.3921,  0.6832]])"
      ]
     },
     "execution_count": 270,
     "metadata": {},
     "output_type": "execute_result"
    }
   ],
   "source": [
    "xtr = torch.tensor(xtrain, dtype=torch.float32)\n",
    "ytr = torch.tensor(ytrain, dtype=torch.float32).view(-1, 1)\n",
    "b = torch.tensor(b, dtype=torch.float32)\n",
    "e = torch.tensor(e, dtype = torch.float32)\n",
    "xtr[:5]"
   ]
  },
  {
   "cell_type": "code",
   "execution_count": 271,
   "id": "6aae3013-ce92-49c9-840f-75f234ec98b7",
   "metadata": {},
   "outputs": [],
   "source": [
    "params = [b, e]\n",
    "m = xtr.shape[0]\n",
    "for i in params:\n",
    "    i.requires_grad = True\n",
    "    i.grad = None"
   ]
  },
  {
   "cell_type": "code",
   "execution_count": 272,
   "id": "5fc0fe45-084f-4fcb-b0e4-0ed2ffdf5b80",
   "metadata": {},
   "outputs": [
    {
     "name": "stdout",
     "output_type": "stream",
     "text": [
      "tensor([[25113.1328]], grad_fn=<MulBackward0>)\n",
      "tensor([[3868.5186]], grad_fn=<MulBackward0>)\n",
      "tensor([[597.6393]], grad_fn=<MulBackward0>)\n",
      "tensor([[92.6036]], grad_fn=<MulBackward0>)\n",
      "tensor([[14.3981]], grad_fn=<MulBackward0>)\n",
      "tensor([[2.2523]], grad_fn=<MulBackward0>)\n",
      "tensor([[0.3605]], grad_fn=<MulBackward0>)\n",
      "tensor([[0.0649]], grad_fn=<MulBackward0>)\n",
      "tensor([[0.0186]], grad_fn=<MulBackward0>)\n",
      "tensor([[0.0113]], grad_fn=<MulBackward0>)\n",
      "tensor([[0.0102]], grad_fn=<MulBackward0>)\n",
      "tensor([[0.0100]], grad_fn=<MulBackward0>)\n",
      "tensor([[0.0099]], grad_fn=<MulBackward0>)\n",
      "tensor([[0.0099]], grad_fn=<MulBackward0>)\n",
      "tensor([[0.0099]], grad_fn=<MulBackward0>)\n",
      "tensor([[0.0099]], grad_fn=<MulBackward0>)\n",
      "tensor([[0.0099]], grad_fn=<MulBackward0>)\n",
      "tensor([[0.0099]], grad_fn=<MulBackward0>)\n",
      "tensor([[0.0099]], grad_fn=<MulBackward0>)\n",
      "tensor([[0.0099]], grad_fn=<MulBackward0>)\n",
      "tensor([[0.0099]], grad_fn=<MulBackward0>)\n",
      "tensor([[0.0099]], grad_fn=<MulBackward0>)\n",
      "tensor([[0.0099]], grad_fn=<MulBackward0>)\n",
      "tensor([[0.0099]], grad_fn=<MulBackward0>)\n",
      "tensor([[0.0099]], grad_fn=<MulBackward0>)\n",
      "tensor([[0.0099]], grad_fn=<MulBackward0>)\n",
      "tensor([[0.0099]], grad_fn=<MulBackward0>)\n",
      "tensor([[0.0099]], grad_fn=<MulBackward0>)\n",
      "tensor([[0.0099]], grad_fn=<MulBackward0>)\n",
      "tensor([[0.0099]], grad_fn=<MulBackward0>)\n"
     ]
    }
   ],
   "source": [
    "# forward pass\n",
    "for i in range(30):\n",
    "    pred = xtr @ b + e\n",
    "    # cost function 1/m * sum(ypred - ytrue)**2\n",
    "    diff = pred - ytr\n",
    "    diff_square = diff**2\n",
    "    diff_sum = diff_square.sum(0, keepdim = True)\n",
    "    cost = (1/m) *diff_sum # m is not a variable, its just a fixed value\n",
    "    print(cost)\n",
    "    # backward pass\n",
    "    dcost = 1.0\n",
    "    ddiff_square_sum = (1/m) * dcost\n",
    "    ddiff_square = torch.ones_like(diff) * ddiff_square_sum\n",
    "    ddiff = 2 * diff * ddiff_square\n",
    "    dpred = ddiff\n",
    "    dytr = ddiff\n",
    "    de = dpred.sum(0)\n",
    "    dxtr = dpred @ b.T\n",
    "    db = xtr.T @ dpred\n",
    "    # update\n",
    "    if i<10:\n",
    "    b = b - 0.3*db\n",
    "    e = e - 0.3*de"
   ]
  },
  {
   "cell_type": "code",
   "execution_count": 241,
   "id": "b7a259c8-9005-4282-95ea-d7e0323ad6cd",
   "metadata": {},
   "outputs": [
    {
     "name": "stdout",
     "output_type": "stream",
     "text": [
      "torch.Size([1, 1]) torch.Size([1, 1])\n",
      "torch.Size([8500, 1]) torch.Size([1, 1])\n",
      "torch.Size([8500, 1]) torch.Size([8500, 1]) torch.Size([8500, 1])\n",
      "torch.Size([8500, 6]) torch.Size([6, 1]) torch.Size([1]) torch.Size([8500, 1])\n"
     ]
    }
   ],
   "source": [
    "print(diff_sum.shape, cost.shape)\n",
    "print(diff.shape, diff_sum.shape)\n",
    "print(ytr.shape, pred.shape, diff.shape)\n",
    "print(xtr.shape, b.shape, e.shape, pred.shape)"
   ]
  },
  {
   "cell_type": "code",
   "execution_count": 236,
   "id": "80db4247-54a9-4141-9244-6619db6f0347",
   "metadata": {},
   "outputs": [
    {
     "data": {
      "text/plain": [
       "np.float64(0.0009743049440947837)"
      ]
     },
     "execution_count": 236,
     "metadata": {},
     "output_type": "execute_result"
    }
   ],
   "source": [
    "lr = LinearRegression()\n",
    "lr.fit(xtrain, ytrain)\n",
    "lr.intercept_"
   ]
  },
  {
   "cell_type": "code",
   "execution_count": 237,
   "id": "4b220229-a314-42e7-985e-9b5eeeed963a",
   "metadata": {},
   "outputs": [
    {
     "data": {
      "text/plain": [
       "array([95.67525234, 20.18151872, 18.80571996, 94.80655363, 56.39541028,\n",
       "       58.32739273])"
      ]
     },
     "execution_count": 237,
     "metadata": {},
     "output_type": "execute_result"
    }
   ],
   "source": [
    "lr.coef_"
   ]
  },
  {
   "cell_type": "code",
   "execution_count": 238,
   "id": "96f90aed-b4f7-443c-89da-86a33e7b0f7d",
   "metadata": {},
   "outputs": [
    {
     "data": {
      "text/plain": [
       "np.float64(0.009352978631749737)"
      ]
     },
     "execution_count": 238,
     "metadata": {},
     "output_type": "execute_result"
    }
   ],
   "source": [
    "mean_squared_error(ytest,lr.predict(xtest))"
   ]
  }
 ],
 "metadata": {
  "kernelspec": {
   "display_name": "Python 3 (ipykernel)",
   "language": "python",
   "name": "python3"
  },
  "language_info": {
   "codemirror_mode": {
    "name": "ipython",
    "version": 3
   },
   "file_extension": ".py",
   "mimetype": "text/x-python",
   "name": "python",
   "nbconvert_exporter": "python",
   "pygments_lexer": "ipython3",
   "version": "3.10.12"
  }
 },
 "nbformat": 4,
 "nbformat_minor": 5
}

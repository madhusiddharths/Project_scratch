{
 "cells": [
  {
   "cell_type": "code",
   "execution_count": 1,
   "id": "d7a490bb-bae7-4b5c-89ec-1117d78326d0",
   "metadata": {},
   "outputs": [],
   "source": [
    "import pandas as pd\n",
    "import numpy as np\n",
    "import matplotlib.pyplot as plt\n",
    "import seaborn as sns\n",
    "from sklearn.preprocessing import MinMaxScaler  # for normalization\n",
    "from sklearn.model_selection import train_test_split \n",
    "from sklearn.metrics import accuracy_score, precision_score, recall_score, roc_auc_score\n",
    "from sklearn.svm import SVC\n",
    "import torch"
   ]
  },
  {
   "cell_type": "code",
   "execution_count": 2,
   "id": "7221c3aa-a3df-47b8-90e5-797e41d0ac12",
   "metadata": {},
   "outputs": [
    {
     "data": {
      "text/html": [
       "<div>\n",
       "<style scoped>\n",
       "    .dataframe tbody tr th:only-of-type {\n",
       "        vertical-align: middle;\n",
       "    }\n",
       "\n",
       "    .dataframe tbody tr th {\n",
       "        vertical-align: top;\n",
       "    }\n",
       "\n",
       "    .dataframe thead th {\n",
       "        text-align: right;\n",
       "    }\n",
       "</style>\n",
       "<table border=\"1\" class=\"dataframe\">\n",
       "  <thead>\n",
       "    <tr style=\"text-align: right;\">\n",
       "      <th></th>\n",
       "      <th>fixed acidity;\"volatile acidity\";\"citric acid\";\"residual sugar\";\"chlorides\";\"free sulfur dioxide\";\"total sulfur dioxide\";\"density\";\"pH\";\"sulphates\";\"alcohol\";\"quality\"</th>\n",
       "    </tr>\n",
       "  </thead>\n",
       "  <tbody>\n",
       "    <tr>\n",
       "      <th>0</th>\n",
       "      <td>7;0.27;0.36;20.7;0.045;45;170;1.001;3;0.45;8.8;6</td>\n",
       "    </tr>\n",
       "    <tr>\n",
       "      <th>1</th>\n",
       "      <td>6.3;0.3;0.34;1.6;0.049;14;132;0.994;3.3;0.49;9...</td>\n",
       "    </tr>\n",
       "    <tr>\n",
       "      <th>2</th>\n",
       "      <td>8.1;0.28;0.4;6.9;0.05;30;97;0.9951;3.26;0.44;1...</td>\n",
       "    </tr>\n",
       "    <tr>\n",
       "      <th>3</th>\n",
       "      <td>7.2;0.23;0.32;8.5;0.058;47;186;0.9956;3.19;0.4...</td>\n",
       "    </tr>\n",
       "    <tr>\n",
       "      <th>4</th>\n",
       "      <td>7.2;0.23;0.32;8.5;0.058;47;186;0.9956;3.19;0.4...</td>\n",
       "    </tr>\n",
       "  </tbody>\n",
       "</table>\n",
       "</div>"
      ],
      "text/plain": [
       "  fixed acidity;\"volatile acidity\";\"citric acid\";\"residual sugar\";\"chlorides\";\"free sulfur dioxide\";\"total sulfur dioxide\";\"density\";\"pH\";\"sulphates\";\"alcohol\";\"quality\"\n",
       "0   7;0.27;0.36;20.7;0.045;45;170;1.001;3;0.45;8.8;6                                                                                                                     \n",
       "1  6.3;0.3;0.34;1.6;0.049;14;132;0.994;3.3;0.49;9...                                                                                                                     \n",
       "2  8.1;0.28;0.4;6.9;0.05;30;97;0.9951;3.26;0.44;1...                                                                                                                     \n",
       "3  7.2;0.23;0.32;8.5;0.058;47;186;0.9956;3.19;0.4...                                                                                                                     \n",
       "4  7.2;0.23;0.32;8.5;0.058;47;186;0.9956;3.19;0.4...                                                                                                                     "
      ]
     },
     "execution_count": 2,
     "metadata": {},
     "output_type": "execute_result"
    }
   ],
   "source": [
    "df = pd.read_csv('WhiteWineQuality.csv')\n",
    "df.head()"
   ]
  },
  {
   "cell_type": "code",
   "execution_count": 3,
   "id": "2bf93c20-9fd7-4b24-bbf1-ea7b822eccea",
   "metadata": {},
   "outputs": [
    {
     "name": "stdout",
     "output_type": "stream",
     "text": [
      "<class 'pandas.core.frame.DataFrame'>\n",
      "RangeIndex: 4898 entries, 0 to 4897\n",
      "Data columns (total 1 columns):\n",
      " #   Column                                                                                                                                                                   Non-Null Count  Dtype \n",
      "---  ------                                                                                                                                                                   --------------  ----- \n",
      " 0   fixed acidity;\"volatile acidity\";\"citric acid\";\"residual sugar\";\"chlorides\";\"free sulfur dioxide\";\"total sulfur dioxide\";\"density\";\"pH\";\"sulphates\";\"alcohol\";\"quality\"  4898 non-null   object\n",
      "dtypes: object(1)\n",
      "memory usage: 38.4+ KB\n"
     ]
    }
   ],
   "source": [
    "df.info()"
   ]
  },
  {
   "cell_type": "code",
   "execution_count": 4,
   "id": "2125df89-5693-4c10-a12c-7c83bc773c95",
   "metadata": {},
   "outputs": [
    {
     "data": {
      "text/plain": [
       "['fixed acidity',\n",
       " 'volatile acidity',\n",
       " 'citric acid',\n",
       " 'residual sugar',\n",
       " 'chlorides',\n",
       " 'free sulfur dioxide',\n",
       " 'total sulfur dioxide',\n",
       " 'density',\n",
       " 'pH',\n",
       " 'sulphates',\n",
       " 'alcohol',\n",
       " 'quality']"
      ]
     },
     "execution_count": 4,
     "metadata": {},
     "output_type": "execute_result"
    }
   ],
   "source": [
    "cols = list(df.columns)[0].split(';')\n",
    "cols = [item.replace('\"', '') for item in cols]\n",
    "cols"
   ]
  },
  {
   "cell_type": "code",
   "execution_count": 5,
   "id": "31825712-7239-4a3a-9a83-1870fa5882b1",
   "metadata": {},
   "outputs": [
    {
     "data": {
      "text/plain": [
       "['7',\n",
       " '0.27',\n",
       " '0.36',\n",
       " '20.7',\n",
       " '0.045',\n",
       " '45',\n",
       " '170',\n",
       " '1.001',\n",
       " '3',\n",
       " '0.45',\n",
       " '8.8',\n",
       " '6']"
      ]
     },
     "execution_count": 5,
     "metadata": {},
     "output_type": "execute_result"
    }
   ],
   "source": [
    "vals = []\n",
    "for i in range(len(df)):\n",
    "    vals.append(list(df.values[i])[0].split(';'))\n",
    "vals[0]"
   ]
  },
  {
   "cell_type": "code",
   "execution_count": 6,
   "id": "47fcce00-7269-4582-b0cd-bca06fba1163",
   "metadata": {},
   "outputs": [
    {
     "data": {
      "text/html": [
       "<div>\n",
       "<style scoped>\n",
       "    .dataframe tbody tr th:only-of-type {\n",
       "        vertical-align: middle;\n",
       "    }\n",
       "\n",
       "    .dataframe tbody tr th {\n",
       "        vertical-align: top;\n",
       "    }\n",
       "\n",
       "    .dataframe thead th {\n",
       "        text-align: right;\n",
       "    }\n",
       "</style>\n",
       "<table border=\"1\" class=\"dataframe\">\n",
       "  <thead>\n",
       "    <tr style=\"text-align: right;\">\n",
       "      <th></th>\n",
       "      <th>fixed acidity</th>\n",
       "      <th>volatile acidity</th>\n",
       "      <th>citric acid</th>\n",
       "      <th>residual sugar</th>\n",
       "      <th>chlorides</th>\n",
       "      <th>free sulfur dioxide</th>\n",
       "      <th>total sulfur dioxide</th>\n",
       "      <th>density</th>\n",
       "      <th>pH</th>\n",
       "      <th>sulphates</th>\n",
       "      <th>alcohol</th>\n",
       "      <th>quality</th>\n",
       "    </tr>\n",
       "  </thead>\n",
       "  <tbody>\n",
       "    <tr>\n",
       "      <th>0</th>\n",
       "      <td>7.0</td>\n",
       "      <td>0.27</td>\n",
       "      <td>0.36</td>\n",
       "      <td>20.7</td>\n",
       "      <td>0.045</td>\n",
       "      <td>45.0</td>\n",
       "      <td>170.0</td>\n",
       "      <td>1.0010</td>\n",
       "      <td>3.00</td>\n",
       "      <td>0.45</td>\n",
       "      <td>8.8</td>\n",
       "      <td>6.0</td>\n",
       "    </tr>\n",
       "    <tr>\n",
       "      <th>1</th>\n",
       "      <td>6.3</td>\n",
       "      <td>0.30</td>\n",
       "      <td>0.34</td>\n",
       "      <td>1.6</td>\n",
       "      <td>0.049</td>\n",
       "      <td>14.0</td>\n",
       "      <td>132.0</td>\n",
       "      <td>0.9940</td>\n",
       "      <td>3.30</td>\n",
       "      <td>0.49</td>\n",
       "      <td>9.5</td>\n",
       "      <td>6.0</td>\n",
       "    </tr>\n",
       "    <tr>\n",
       "      <th>2</th>\n",
       "      <td>8.1</td>\n",
       "      <td>0.28</td>\n",
       "      <td>0.40</td>\n",
       "      <td>6.9</td>\n",
       "      <td>0.050</td>\n",
       "      <td>30.0</td>\n",
       "      <td>97.0</td>\n",
       "      <td>0.9951</td>\n",
       "      <td>3.26</td>\n",
       "      <td>0.44</td>\n",
       "      <td>10.1</td>\n",
       "      <td>6.0</td>\n",
       "    </tr>\n",
       "    <tr>\n",
       "      <th>3</th>\n",
       "      <td>7.2</td>\n",
       "      <td>0.23</td>\n",
       "      <td>0.32</td>\n",
       "      <td>8.5</td>\n",
       "      <td>0.058</td>\n",
       "      <td>47.0</td>\n",
       "      <td>186.0</td>\n",
       "      <td>0.9956</td>\n",
       "      <td>3.19</td>\n",
       "      <td>0.40</td>\n",
       "      <td>9.9</td>\n",
       "      <td>6.0</td>\n",
       "    </tr>\n",
       "    <tr>\n",
       "      <th>4</th>\n",
       "      <td>7.2</td>\n",
       "      <td>0.23</td>\n",
       "      <td>0.32</td>\n",
       "      <td>8.5</td>\n",
       "      <td>0.058</td>\n",
       "      <td>47.0</td>\n",
       "      <td>186.0</td>\n",
       "      <td>0.9956</td>\n",
       "      <td>3.19</td>\n",
       "      <td>0.40</td>\n",
       "      <td>9.9</td>\n",
       "      <td>6.0</td>\n",
       "    </tr>\n",
       "  </tbody>\n",
       "</table>\n",
       "</div>"
      ],
      "text/plain": [
       "   fixed acidity  volatile acidity  citric acid  residual sugar  chlorides  \\\n",
       "0            7.0              0.27         0.36            20.7      0.045   \n",
       "1            6.3              0.30         0.34             1.6      0.049   \n",
       "2            8.1              0.28         0.40             6.9      0.050   \n",
       "3            7.2              0.23         0.32             8.5      0.058   \n",
       "4            7.2              0.23         0.32             8.5      0.058   \n",
       "\n",
       "   free sulfur dioxide  total sulfur dioxide  density    pH  sulphates  \\\n",
       "0                 45.0                 170.0   1.0010  3.00       0.45   \n",
       "1                 14.0                 132.0   0.9940  3.30       0.49   \n",
       "2                 30.0                  97.0   0.9951  3.26       0.44   \n",
       "3                 47.0                 186.0   0.9956  3.19       0.40   \n",
       "4                 47.0                 186.0   0.9956  3.19       0.40   \n",
       "\n",
       "   alcohol  quality  \n",
       "0      8.8      6.0  \n",
       "1      9.5      6.0  \n",
       "2     10.1      6.0  \n",
       "3      9.9      6.0  \n",
       "4      9.9      6.0  "
      ]
     },
     "execution_count": 6,
     "metadata": {},
     "output_type": "execute_result"
    }
   ],
   "source": [
    "data = pd.DataFrame(vals, columns = cols)\n",
    "data = data.astype(float)\n",
    "data.head()"
   ]
  },
  {
   "cell_type": "code",
   "execution_count": 7,
   "id": "ba3892f1-ae61-4384-b1ae-b87ee590eabc",
   "metadata": {},
   "outputs": [
    {
     "name": "stdout",
     "output_type": "stream",
     "text": [
      "<class 'pandas.core.frame.DataFrame'>\n",
      "RangeIndex: 4898 entries, 0 to 4897\n",
      "Data columns (total 12 columns):\n",
      " #   Column                Non-Null Count  Dtype  \n",
      "---  ------                --------------  -----  \n",
      " 0   fixed acidity         4898 non-null   float64\n",
      " 1   volatile acidity      4898 non-null   float64\n",
      " 2   citric acid           4898 non-null   float64\n",
      " 3   residual sugar        4898 non-null   float64\n",
      " 4   chlorides             4898 non-null   float64\n",
      " 5   free sulfur dioxide   4898 non-null   float64\n",
      " 6   total sulfur dioxide  4898 non-null   float64\n",
      " 7   density               4898 non-null   float64\n",
      " 8   pH                    4898 non-null   float64\n",
      " 9   sulphates             4898 non-null   float64\n",
      " 10  alcohol               4898 non-null   float64\n",
      " 11  quality               4898 non-null   float64\n",
      "dtypes: float64(12)\n",
      "memory usage: 459.3 KB\n"
     ]
    }
   ],
   "source": [
    "data.info()"
   ]
  },
  {
   "cell_type": "code",
   "execution_count": 26,
   "id": "3d7af9d5-47c6-4c37-8bc5-c8b97bd6983e",
   "metadata": {},
   "outputs": [
    {
     "data": {
      "text/plain": [
       "array([[0.30769231, 0.21468927, 0.21686747, 0.30828221, 0.10682493,\n",
       "        0.33333333, 0.48059701, 0.26622875, 0.25688073, 0.26506024,\n",
       "        0.13333333],\n",
       "       [0.24038462, 0.24858757, 0.20481928, 0.01533742, 0.11869436,\n",
       "        0.09302326, 0.36716418, 0.13098918, 0.53211009, 0.31325301,\n",
       "        0.25      ],\n",
       "       [0.41346154, 0.2259887 , 0.24096386, 0.09662577, 0.12166172,\n",
       "        0.21705426, 0.26268657, 0.15224111, 0.49541284, 0.25301205,\n",
       "        0.35      ],\n",
       "       [0.32692308, 0.16949153, 0.19277108, 0.12116564, 0.14540059,\n",
       "        0.34883721, 0.52835821, 0.16190108, 0.43119266, 0.20481928,\n",
       "        0.31666667],\n",
       "       [0.32692308, 0.16949153, 0.19277108, 0.12116564, 0.14540059,\n",
       "        0.34883721, 0.52835821, 0.16190108, 0.43119266, 0.20481928,\n",
       "        0.31666667]])"
      ]
     },
     "execution_count": 26,
     "metadata": {},
     "output_type": "execute_result"
    }
   ],
   "source": [
    "# initially implementing binary classification\n",
    "data = data[(data['quality'] == 6) | (data['quality'] == 5)]\n",
    "x = data.drop('quality', axis = 1)\n",
    "y = pd.to_numeric(data['quality'])\n",
    "xnorm = MinMaxScaler().fit_transform(x)\n",
    "xnorm[:5]"
   ]
  },
  {
   "cell_type": "code",
   "execution_count": 27,
   "id": "54d137cc-b6d9-4fb6-9dfe-08642b363304",
   "metadata": {},
   "outputs": [
    {
     "data": {
      "text/plain": [
       "((3106, 11), (3106,), (549, 11), (549,))"
      ]
     },
     "execution_count": 27,
     "metadata": {},
     "output_type": "execute_result"
    }
   ],
   "source": [
    "y = np.where(y == 5, -1, 1)\n",
    "xtr, xtest, ytr, ytest = train_test_split(xnorm, y, test_size = 0.15, random_state = 42)\n",
    "xtr.shape, ytr.shape, xtest.shape, ytest.shape"
   ]
  },
  {
   "cell_type": "code",
   "execution_count": 29,
   "id": "60519d09-1b08-4518-aa82-a264243fcb8a",
   "metadata": {},
   "outputs": [
    {
     "data": {
      "text/plain": [
       "(torch.Size([3106, 11]), torch.Size([3106]))"
      ]
     },
     "execution_count": 29,
     "metadata": {},
     "output_type": "execute_result"
    }
   ],
   "source": [
    "xtr = torch.tensor(xtr, dtype = torch.float32, requires_grad = False)\n",
    "ytr = torch.tensor(ytr, dtype = torch.float32, requires_grad = False)\n",
    "xtest = torch.tensor(xtest, dtype = torch.float32, requires_grad = False)\n",
    "xtr.shape, ytr.shape"
   ]
  },
  {
   "cell_type": "code",
   "execution_count": 40,
   "id": "ed61e5de-063c-4b41-8b64-d99852934202",
   "metadata": {},
   "outputs": [],
   "source": [
    "# hinge loss function - L(y,f(x))=max(0,1−y⋅f(x))\n",
    "# the J(w,b) = 1/2 * det(w) **2 + c * sum(max(0, 1 - yi * (wT @ xi + b)))\n",
    "# here the output of yi * (wT @ xi + b) is an [1] vector, moreover the shapes of yi is [1], wT is [1, m] and xi is [m, 1] where m is the no of featueres\n",
    "# and shape of b is [1]. For easier implementation xi @ w, which will give the exact same result because shape of xi in each iteration will be [1, m] and\n",
    "# shape of w is [m, 1].\n",
    "# dJ/dw = w if max(0, 1 - yi * (wT @ xi + b)) == 0\n",
    "#         w - c * sum(yi * xi) otherwise\n",
    "# dJ/db = -c * sum(yi)"
   ]
  },
  {
   "cell_type": "code",
   "execution_count": null,
   "id": "c10b8eca-9a33-4282-885b-06e6bac5976d",
   "metadata": {},
   "outputs": [
    {
     "name": "stdout",
     "output_type": "stream",
     "text": [
      "torch.Size([11]) torch.Size([1])\n",
      "loss for iteration 0 is 17786110.78923416\n",
      "loss for iteration 1 is 17779474.77340126\n",
      "loss for iteration 2 is 17803303.99964142\n",
      "loss for iteration 3 is 17804281.82913208\n",
      "loss for iteration 4 is 7429901.202720642\n",
      "loss for iteration 5 is 7434477.276902676\n",
      "loss for iteration 6 is 17936929.331993103\n",
      "loss for iteration 7 is 53469160.01171875\n",
      "loss for iteration 8 is 53468133.07421875\n",
      "loss for iteration 9 is 17934030.725212097\n",
      "loss for iteration 10 is 17937677.046020508\n",
      "loss for iteration 11 is 53468167.04296875\n",
      "loss for iteration 12 is 53468679.029296875\n",
      "loss for iteration 13 is 17936154.674568176\n",
      "loss for iteration 14 is 7345822.751958847\n",
      "loss for iteration 15 is 7350574.397658825\n",
      "loss for iteration 16 is 18013479.720565796\n",
      "loss for iteration 17 is 18011461.065490723\n",
      "loss for iteration 18 is 7347687.117868423\n",
      "loss for iteration 19 is 22253604.961914062\n",
      "loss for iteration 20 is 37161551.6484375\n",
      "loss for iteration 21 is 52070291.65625\n",
      "loss for iteration 22 is 66979522.01953125\n",
      "loss for iteration 23 is 81886758.73828125\n",
      "loss for iteration 24 is 96795556.2734375\n",
      "loss for iteration 25 is 111702853.3359375\n",
      "loss for iteration 26 is 111706938.8046875\n"
     ]
    }
   ],
   "source": [
    "# implementing using stochastic gradient descent - where the cost is computed separately for each variable\n",
    "# hyper parameters\n",
    "c = 10\n",
    "learning_rate = 1.0\n",
    "num_epochs = 100\n",
    "w = torch.randn(xtr.shape[1], requires_grad = False)\n",
    "b = torch.ones(1, requires_grad = False)\n",
    "print(w.shape, b.shape)\n",
    "\n",
    "for i in range (num_epochs):\n",
    "    total_loss = 0.0\n",
    "    for j in range(len(xtr)):\n",
    "        xi = xtr[j]\n",
    "        yi = ytr[j]\n",
    "        # Compute the margin\n",
    "        margin = yi * (torch.dot(xi, w) + b)\n",
    "        loss = torch.max(torch.tensor(0.0), 1 - margin)\n",
    "        total_loss += loss.item()\n",
    "        \n",
    "        if margin < 1:\n",
    "            w = w - learning_rate * (w - c * ytr[i] * xtr[i])\n",
    "            b = b - learning_rate * (-c * ytr[i])\n",
    "        else:\n",
    "            w = w - learning_rate * w\n",
    "    print(f'loss for iteration {i} is {total_loss}')\n",
    "w = w.numpy()\n",
    "b = b.item()"
   ]
  },
  {
   "cell_type": "code",
   "execution_count": 49,
   "id": "b4dfa3ba-2937-4866-9805-4293facc6ffa",
   "metadata": {},
   "outputs": [
    {
     "name": "stdout",
     "output_type": "stream",
     "text": [
      "recall score 1.0\n",
      "precision score 0.5701275045537341\n"
     ]
    },
    {
     "name": "stderr",
     "output_type": "stream",
     "text": [
      "/tmp/ipykernel_46985/2332971683.py:2: DeprecationWarning: __array_wrap__ must accept context and return_scalar arguments (positionally) in the future. (Deprecated NumPy 2.0)\n",
      "  decision_values = (x @ w) + b\n"
     ]
    }
   ],
   "source": [
    "def predict(x, w, b):\n",
    "    decision_values = (x @ w) + b\n",
    "    return np.where(decision_values >= 0, 1, -1)\n",
    "\n",
    "pred = predict(xtest, w, b)\n",
    "print(f'recall score {recall_score(ytest, pred)}')\n",
    "print(f'precision score {precision_score(ytest, pred)}')"
   ]
  },
  {
   "cell_type": "code",
   "execution_count": null,
   "id": "d3c93d79-beb7-4013-9662-cc7c13838b2e",
   "metadata": {},
   "outputs": [],
   "source": []
  }
 ],
 "metadata": {
  "kernelspec": {
   "display_name": "Python 3 (ipykernel)",
   "language": "python",
   "name": "python3"
  },
  "language_info": {
   "codemirror_mode": {
    "name": "ipython",
    "version": 3
   },
   "file_extension": ".py",
   "mimetype": "text/x-python",
   "name": "python",
   "nbconvert_exporter": "python",
   "pygments_lexer": "ipython3",
   "version": "3.10.12"
  }
 },
 "nbformat": 4,
 "nbformat_minor": 5
}
